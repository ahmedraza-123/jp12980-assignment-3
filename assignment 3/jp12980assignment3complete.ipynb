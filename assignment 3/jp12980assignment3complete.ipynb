{
 "cells": [
  {
   "cell_type": "code",
   "execution_count": 1,
   "id": "160bb02e",
   "metadata": {},
   "outputs": [
    {
     "name": "stdout",
     "output_type": "stream",
     "text": [
      "\tTwinkle, twinkle, little star,\n",
      "\t\t How I wonder what you are!\n",
      "\t\t\t Up above the world so high,\n",
      " \t\t\t like a diamond in the sky.\n",
      " \tTwinkle, twinkle, little star,\n",
      " \t\t How i wonder what you are\n"
     ]
    }
   ],
   "source": [
    "# Q1: Write a Python program to print the following string in a specific format (see the\n",
    "#output).\n",
    "\n",
    "print(\"\\tTwinkle, twinkle, little star,\\n\\t\\t How I wonder what you are!\\n\\t\\t\\t Up above the world so high,\\n \\t\\t\\t like a diamond in the sky.\\n \\tTwinkle, twinkle, little star,\\n \\t\\t How i wonder what you are\")\n",
    "\n"
   ]
  },
  {
   "cell_type": "code",
   "execution_count": 2,
   "id": "bd8415bd",
   "metadata": {},
   "outputs": [
    {
     "name": "stdout",
     "output_type": "stream",
     "text": [
      "3.8.8\n"
     ]
    }
   ],
   "source": [
    "# Q2: Write a Python program to get the Python version you are using\n",
    "\n",
    "import platform\n",
    "print(platform.python_version())\n"
   ]
  },
  {
   "cell_type": "code",
   "execution_count": 3,
   "id": "2bd513a0",
   "metadata": {},
   "outputs": [
    {
     "name": "stdout",
     "output_type": "stream",
     "text": [
      "22 : 51 : 27\n",
      "10 : 51 : 27\n"
     ]
    }
   ],
   "source": [
    "# Q3: Write a Python program to display the current date and time.\n",
    "# 24 Hour format\n",
    "\n",
    "import time\n",
    "print (time.strftime(\"%H : %M : %S\"));\n",
    "\n",
    "#12 Hour Format\n",
    "\n",
    "import time\n",
    "print (time.strftime(\"%I : %M : %S\"));\n"
   ]
  },
  {
   "cell_type": "code",
   "execution_count": 4,
   "id": "b2c5eef7",
   "metadata": {},
   "outputs": [
    {
     "name": "stdout",
     "output_type": "stream",
     "text": [
      "Input Radius of the Circle : 4\n",
      "The Area of Circle with Radius is: 4.0 is: 50.26548245743669\n"
     ]
    }
   ],
   "source": [
    "# Q4: Write a Python program which accepts the radius of a circle from the user and compute\n",
    "#the area.\n",
    "from math import pi\n",
    "Radius = float(input (\"Input Radius of the Circle : \"))\n",
    "print (\"The Area of Circle with Radius is: \" + str(Radius) + \" is: \" + str(pi * Radius**2))\n"
   ]
  },
  {
   "cell_type": "code",
   "execution_count": 5,
   "id": "36e8d474",
   "metadata": {},
   "outputs": [
    {
     "name": "stdout",
     "output_type": "stream",
     "text": [
      "Input First Name : ahmed\n",
      "Input  Last Name : raza\n",
      "Welcome raza ahmed\n"
     ]
    }
   ],
   "source": [
    "# Q5: Write a Python program which accepts the user's first and last name and print them in\n",
    "#reverse order with a space between them.\n",
    "\n",
    "\n",
    "firstName = input(\"Input First Name : \")\n",
    "lastName = input(\"Input  Last Name : \")\n",
    "print (\"Welcome \" + lastName + \" \" + firstName)\n",
    "\n"
   ]
  },
  {
   "cell_type": "code",
   "execution_count": 8,
   "id": "5a4e5a87",
   "metadata": {},
   "outputs": [
    {
     "name": "stdout",
     "output_type": "stream",
     "text": [
      "Enter Any Number\n",
      "\n",
      "4\n",
      "The Number is even.\n",
      "\n"
     ]
    }
   ],
   "source": [
    "# Q8: write a program which take input from user and identify that the given number is even\n",
    "#or odd?\n",
    "print (\"Enter Any Number\\n\");\n",
    "\n",
    "i = int (input ())\n",
    "\n",
    "if (i % 2 == 0):\n",
    "    print (\"The Number is even.\\n\");\n",
    "else:\n",
    "    print (\"The Number is odd.\");"
   ]
  },
  {
   "cell_type": "code",
   "execution_count": 18,
   "id": "d58ec30d",
   "metadata": {},
   "outputs": [
    {
     "name": "stdout",
     "output_type": "stream",
     "text": [
      "Sum of elements in given list:  104\n"
     ]
    }
   ],
   "source": [
    "# Q10 :Write a Python program to sum all the numeric items in a list?\n",
    "\n",
    "addition = 0\n",
    " \n",
    "list1 = [22, 14, 13, 12, 43]\n",
    " \n",
    "\n",
    "for ele in range(0, len(list1)):\n",
    "    addition = addition + list1[ele]\n",
    " \n",
    "\n",
    "print(\"Sum of elements in given list: \", addition)"
   ]
  },
  {
   "cell_type": "code",
   "execution_count": 20,
   "id": "07a63328",
   "metadata": {},
   "outputs": [
    {
     "name": "stdout",
     "output_type": "stream",
     "text": [
      "Largest element is: 101\n"
     ]
    }
   ],
   "source": [
    "# Q11: Write a Python program to get the largest number from a numeric list.\n",
    "\n",
    "\n",
    "list2 = [101, 22, 41, 67, 89]\n",
    "  \n",
    "\n",
    "list2.sort()\n",
    "  \n",
    "\n",
    "print(\"Largest element is:\", list2[-1])"
   ]
  },
  {
   "cell_type": "code",
   "execution_count": 21,
   "id": "9e1f9d49",
   "metadata": {},
   "outputs": [
    {
     "name": "stdout",
     "output_type": "stream",
     "text": [
      "Please enter English Marks: 56\n",
      "Please enter Math score: 76\n",
      "Please enter Islamiat Marks: 45\n",
      "Please enter Chemistry Marks: 65\n",
      "Please enter Computer Marks: 89\n",
      "Percentage is:    \t 66.2 %\n",
      "Grade is:         \t C\n"
     ]
    }
   ],
   "source": [
    "# Q7: Write a program which takes 5 inputs from user for different subject’s marks, total it\n",
    "#and generate mark sheet using grades ?\n",
    "eng_Marks = float(input(\"Please enter English Marks: \"))\n",
    "maths_Marks = float(input(\"Please enter Math score: \"))\n",
    "isl_Marks = float(input(\"Please enter Islamiat Marks: \"))\n",
    "chem_Marks = float(input(\"Please enter Chemistry Marks: \"))\n",
    "comp_Marks = float(input(\"Please enter Computer Marks: \"))\n",
    "\n",
    "\n",
    "total = eng_Marks + maths_Marks + isl_Marks + chem_Marks + comp_Marks\n",
    "average = total / 5\n",
    "percentage = (total / 500) * 100\n",
    "\n",
    "\n",
    "if percentage >= 90:\n",
    "      grade = 'A+'\n",
    "elif  percentage >= 80 and percentage  < 90:\n",
    "    grade = 'A'\n",
    "elif percentage >= 70 and percentage < 80:\n",
    "    grade = 'B'\n",
    "elif percentage >= 60 and percentage   < 70:\n",
    "    grade = 'C'\n",
    "elif percentage >= 50 and percentage   < 60:\n",
    "    grade = 'D'\n",
    "elif percentage >= 40 and percentage   < 50:\n",
    "    grade = 'E'\n",
    "else:\n",
    "    grade = 'F'\n",
    "    \n",
    "\n",
    "print (\"Percentage is:    \\t\", percentage, \"%\")\n",
    "print (\"Grade is:         \\t\", grade)\n",
    "  "
   ]
  },
  {
   "cell_type": "code",
   "execution_count": 28,
   "id": "063daa12",
   "metadata": {},
   "outputs": [
    {
     "name": "stdout",
     "output_type": "stream",
     "text": [
      "Enter First number: 23\n",
      "Enter Second number: 6\n",
      "The sum is 29\n"
     ]
    }
   ],
   "source": [
    "# Q6: Write a python program which takes two inputs from user and print them addition\n",
    "\n",
    "\n",
    "firstNum = input('Enter First number: ')\n",
    "secondNum = input('Enter Second number: ')\n",
    "\n",
    "addition = int(firstNum) + int(secondNum)\n",
    "\n",
    "\n",
    "print('The sum is {2}'.format(secondNum, secondNum, addition))\n"
   ]
  },
  {
   "cell_type": "code",
   "execution_count": 1,
   "id": "14c1b7f9",
   "metadata": {},
   "outputs": [
    {
     "name": "stdout",
     "output_type": "stream",
     "text": [
      "The Elements Less Than 5 Are:\n",
      "1\n",
      "\n",
      "3\n",
      "\n",
      "4\n",
      "\n",
      "1\n",
      "\n",
      "2\n",
      "\n"
     ]
    }
   ],
   "source": [
    "# Q12: Take a list, say for example this one:\n",
    "#a = [1, 1, 2, 3, 5, 8, 13, 21, 34, 55, 89]\n",
    "#Write a program that prints out all the elements of the list that are less than 5.\n",
    "\n",
    "print (\"The Elements Less Than 5 Are:\")\n",
    "\n",
    "a= [1, 3, 23, 4, 9, 1, 56, 78, 14, 25, 2]\n",
    "for elements in a:\n",
    "    if(int(elements) <5):\n",
    "        print(str(elements)+\"\\n\")"
   ]
  },
  {
   "cell_type": "code",
   "execution_count": 2,
   "id": "0a266f45",
   "metadata": {},
   "outputs": [
    {
     "name": "stdout",
     "output_type": "stream",
     "text": [
      "The Length Of The List Is:  7\n"
     ]
    }
   ],
   "source": [
    "# Q9: Write a program which print the length of the list?\n",
    "\n",
    "\n",
    "\n",
    "listLength = ['Ahmed', 'Raza', 'Aamir', 'Laiba', 'Blue', 'Green', '1']\n",
    "print(\"The Length Of The List Is: \", len(listLength))"
   ]
  },
  {
   "cell_type": "code",
   "execution_count": null,
   "id": "de16b1a8",
   "metadata": {},
   "outputs": [],
   "source": []
  }
 ],
 "metadata": {
  "kernelspec": {
   "display_name": "Python 3",
   "language": "python",
   "name": "python3"
  },
  "language_info": {
   "codemirror_mode": {
    "name": "ipython",
    "version": 3
   },
   "file_extension": ".py",
   "mimetype": "text/x-python",
   "name": "python",
   "nbconvert_exporter": "python",
   "pygments_lexer": "ipython3",
   "version": "3.8.8"
  }
 },
 "nbformat": 4,
 "nbformat_minor": 5
}
